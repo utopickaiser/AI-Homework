{
  "nbformat": 4,
  "nbformat_minor": 0,
  "metadata": {
    "colab": {
      "provenance": [],
      "gpuType": "T4",
      "authorship_tag": "ABX9TyO6lfx0R0dhjv5fiwE8xLHW",
      "include_colab_link": true
    },
    "kernelspec": {
      "name": "python3",
      "display_name": "Python 3"
    },
    "language_info": {
      "name": "python"
    },
    "accelerator": "GPU",
    "gpuClass": "standard"
  },
  "cells": [
    {
      "cell_type": "markdown",
      "metadata": {
        "id": "view-in-github",
        "colab_type": "text"
      },
      "source": [
        "<a href=\"https://colab.research.google.com/github/utopickaiser/AI-Homework/blob/main/Final_Project_AI_Covid.ipynb\" target=\"_parent\"><img src=\"https://colab.research.google.com/assets/colab-badge.svg\" alt=\"Open In Colab\"/></a>"
      ]
    },
    {
      "cell_type": "code",
      "source": [
        "from google.colab import drive\n",
        "drive.mount('/content/drive')"
      ],
      "metadata": {
        "colab": {
          "base_uri": "https://localhost:8080/"
        },
        "id": "fP4TN3QfU5mC",
        "outputId": "4c188e96-9fe2-425a-e694-ab001e9b0167"
      },
      "execution_count": 1,
      "outputs": [
        {
          "output_type": "stream",
          "name": "stdout",
          "text": [
            "Mounted at /content/drive\n"
          ]
        }
      ]
    },
    {
      "cell_type": "code",
      "source": [
        "# Khai báo và sử dụng các thư viện sau\n",
        "from keras.models import Sequential, Model \n",
        "from keras.layers import Dense, Dropout, Flatten, Conv2D, MaxPooling2D, Normalization\n",
        "from keras.layers import LeakyReLU\n",
        "from keras.optimizers import Adam\n",
        "from os import listdir\n",
        "from numpy import asarray, save\n",
        "from keras.utils import load_img\n",
        "from keras.utils import img_to_array\n",
        "import numpy as np\n",
        "from numpy import asarray\n",
        "from keras.preprocessing.image import ImageDataGenerator\n",
        "from keras.callbacks import EarlyStopping"
      ],
      "metadata": {
        "id": "IDLoyApeU60l"
      },
      "execution_count": 2,
      "outputs": []
    },
    {
      "cell_type": "code",
      "source": [
        "# Khởi tạo dữ liệu cho quá trình training\n",
        "train_data=ImageDataGenerator(rescale=1./255, shear_range=0.2, zoom_range=0.2, horizontal_flip=True)\n",
        "train_datagen = ImageDataGenerator(rescale = 1./255,shear_range = 0.2,zoom_range = 0.2,horizontal_flip = True)\n",
        "training = train_datagen.flow_from_directory('/content/drive/MyDrive/data/train',target_size = (150,150), batch_size = 32,class_mode='categorical')\n",
        "validation=train_data.flow_from_directory('/content/drive/MyDrive/data/valid',target_size=(150,150), batch_size=32, class_mode='categorical')"
      ],
      "metadata": {
        "colab": {
          "base_uri": "https://localhost:8080/"
        },
        "id": "Yu2zj8RUVHD3",
        "outputId": "c4aded68-ce53-4ea2-dd7b-6deddfecf208"
      },
      "execution_count": 3,
      "outputs": [
        {
          "output_type": "stream",
          "name": "stdout",
          "text": [
            "Found 1682 images belonging to 2 classes.\n",
            "Found 1026 images belonging to 2 classes.\n"
          ]
        }
      ]
    },
    {
      "cell_type": "code",
      "source": [
        "# Kiểm tra các thuộc tính của tập dữ liệu training\n",
        "training.class_indices\n",
        "# Kiểm tra các thuộc tính của tập dữ liệu validation\n",
        "validation.class_indices"
      ],
      "metadata": {
        "colab": {
          "base_uri": "https://localhost:8080/"
        },
        "id": "JZI0Alg4VUW3",
        "outputId": "4473e6c6-f699-455a-b29f-4a4b5697ac35"
      },
      "execution_count": 4,
      "outputs": [
        {
          "output_type": "execute_result",
          "data": {
            "text/plain": [
              "{'covid': 0, 'normal': 1}"
            ]
          },
          "metadata": {},
          "execution_count": 4
        }
      ]
    },
    {
      "cell_type": "code",
      "source": [
        "# Tạo ra mạng CNN để train mô hình\n",
        "model=Sequential()\n",
        "\n",
        "model.add(Conv2D(32,(3,3), activation='relu', kernel_initializer='he_uniform', padding='same',input_shape=(150,150,3))) \n",
        "model.add(Conv2D(32,(3,3), activation='relu', kernel_initializer='he_uniform', padding='same'))\n",
        "\n",
        "model.add(MaxPooling2D(2,2))\n",
        "model.add(Conv2D(64,(3,3), activation='relu', kernel_initializer='he_uniform', padding='same')) \n",
        "model.add(Conv2D(64,(3,3), activation='relu', kernel_initializer='he_uniform', padding='same'))\n",
        "\n",
        "model.add(MaxPooling2D(2,2))\n",
        "model.add(Conv2D(128,(3,3), activation='relu', kernel_initializer='he_uniform', padding='same')) \n",
        "model.add(Conv2D(128,(3,3), activation='relu', kernel_initializer='he_uniform', padding='same'))\n",
        "\n",
        "model.add(MaxPooling2D(2,2))\n",
        "model.add(Flatten())\n",
        "model.add(Dense(256,activation='relu',kernel_initializer='he_uniform'))\n",
        "model.add(Dropout(0.2))\n",
        "model.add(Dense(2,activation='softmax'))\n",
        "model.summary()"
      ],
      "metadata": {
        "colab": {
          "base_uri": "https://localhost:8080/"
        },
        "id": "aEK95hY5VWrl",
        "outputId": "54998ace-7554-4b86-e50e-b17efd558683"
      },
      "execution_count": 5,
      "outputs": [
        {
          "output_type": "stream",
          "name": "stdout",
          "text": [
            "Model: \"sequential\"\n",
            "_________________________________________________________________\n",
            " Layer (type)                Output Shape              Param #   \n",
            "=================================================================\n",
            " conv2d (Conv2D)             (None, 150, 150, 32)      896       \n",
            "                                                                 \n",
            " conv2d_1 (Conv2D)           (None, 150, 150, 32)      9248      \n",
            "                                                                 \n",
            " max_pooling2d (MaxPooling2D  (None, 75, 75, 32)       0         \n",
            " )                                                               \n",
            "                                                                 \n",
            " conv2d_2 (Conv2D)           (None, 75, 75, 64)        18496     \n",
            "                                                                 \n",
            " conv2d_3 (Conv2D)           (None, 75, 75, 64)        36928     \n",
            "                                                                 \n",
            " max_pooling2d_1 (MaxPooling  (None, 37, 37, 64)       0         \n",
            " 2D)                                                             \n",
            "                                                                 \n",
            " conv2d_4 (Conv2D)           (None, 37, 37, 128)       73856     \n",
            "                                                                 \n",
            " conv2d_5 (Conv2D)           (None, 37, 37, 128)       147584    \n",
            "                                                                 \n",
            " max_pooling2d_2 (MaxPooling  (None, 18, 18, 128)      0         \n",
            " 2D)                                                             \n",
            "                                                                 \n",
            " flatten (Flatten)           (None, 41472)             0         \n",
            "                                                                 \n",
            " dense (Dense)               (None, 256)               10617088  \n",
            "                                                                 \n",
            " dropout (Dropout)           (None, 256)               0         \n",
            "                                                                 \n",
            " dense_1 (Dense)             (None, 2)                 514       \n",
            "                                                                 \n",
            "=================================================================\n",
            "Total params: 10,904,610\n",
            "Trainable params: 10,904,610\n",
            "Non-trainable params: 0\n",
            "_________________________________________________________________\n"
          ]
        }
      ]
    },
    {
      "cell_type": "code",
      "source": [
        "# Biên dịch \n",
        "model.compile(\n",
        "    optimizer = 'Adam',\n",
        "    loss='categorical_crossentropy',\n",
        "    metrics = 'accuracy'\n",
        ")\n",
        "model.summary()\n",
        "# Tiến hành quá trình training\n",
        "train = model.fit(training,epochs = 50,validation_data=validation,verbose = 1)"
      ],
      "metadata": {
        "colab": {
          "base_uri": "https://localhost:8080/"
        },
        "id": "MCsWPBg4Vb69",
        "outputId": "2f349a92-31a1-4b86-d0db-3673e9dac53f"
      },
      "execution_count": 6,
      "outputs": [
        {
          "output_type": "stream",
          "name": "stdout",
          "text": [
            "Model: \"sequential\"\n",
            "_________________________________________________________________\n",
            " Layer (type)                Output Shape              Param #   \n",
            "=================================================================\n",
            " conv2d (Conv2D)             (None, 150, 150, 32)      896       \n",
            "                                                                 \n",
            " conv2d_1 (Conv2D)           (None, 150, 150, 32)      9248      \n",
            "                                                                 \n",
            " max_pooling2d (MaxPooling2D  (None, 75, 75, 32)       0         \n",
            " )                                                               \n",
            "                                                                 \n",
            " conv2d_2 (Conv2D)           (None, 75, 75, 64)        18496     \n",
            "                                                                 \n",
            " conv2d_3 (Conv2D)           (None, 75, 75, 64)        36928     \n",
            "                                                                 \n",
            " max_pooling2d_1 (MaxPooling  (None, 37, 37, 64)       0         \n",
            " 2D)                                                             \n",
            "                                                                 \n",
            " conv2d_4 (Conv2D)           (None, 37, 37, 128)       73856     \n",
            "                                                                 \n",
            " conv2d_5 (Conv2D)           (None, 37, 37, 128)       147584    \n",
            "                                                                 \n",
            " max_pooling2d_2 (MaxPooling  (None, 18, 18, 128)      0         \n",
            " 2D)                                                             \n",
            "                                                                 \n",
            " flatten (Flatten)           (None, 41472)             0         \n",
            "                                                                 \n",
            " dense (Dense)               (None, 256)               10617088  \n",
            "                                                                 \n",
            " dropout (Dropout)           (None, 256)               0         \n",
            "                                                                 \n",
            " dense_1 (Dense)             (None, 2)                 514       \n",
            "                                                                 \n",
            "=================================================================\n",
            "Total params: 10,904,610\n",
            "Trainable params: 10,904,610\n",
            "Non-trainable params: 0\n",
            "_________________________________________________________________\n",
            "Epoch 1/50\n",
            "53/53 [==============================] - 1204s 23s/step - loss: 0.7793 - accuracy: 0.8603 - val_loss: 0.1734 - val_accuracy: 0.9415\n",
            "Epoch 2/50\n",
            "53/53 [==============================] - 55s 1s/step - loss: 0.1652 - accuracy: 0.9364 - val_loss: 0.3384 - val_accuracy: 0.8957\n",
            "Epoch 3/50\n",
            "53/53 [==============================] - 54s 1s/step - loss: 0.1499 - accuracy: 0.9400 - val_loss: 0.1478 - val_accuracy: 0.9522\n",
            "Epoch 4/50\n",
            "53/53 [==============================] - 56s 1s/step - loss: 0.1072 - accuracy: 0.9614 - val_loss: 0.1098 - val_accuracy: 0.9630\n",
            "Epoch 5/50\n",
            "53/53 [==============================] - 56s 1s/step - loss: 0.0772 - accuracy: 0.9738 - val_loss: 0.1246 - val_accuracy: 0.9610\n",
            "Epoch 6/50\n",
            "53/53 [==============================] - 56s 1s/step - loss: 0.0661 - accuracy: 0.9822 - val_loss: 0.0799 - val_accuracy: 0.9717\n",
            "Epoch 7/50\n",
            "53/53 [==============================] - 56s 1s/step - loss: 0.0726 - accuracy: 0.9786 - val_loss: 0.1013 - val_accuracy: 0.9708\n",
            "Epoch 8/50\n",
            "53/53 [==============================] - 57s 1s/step - loss: 0.0639 - accuracy: 0.9810 - val_loss: 0.1132 - val_accuracy: 0.9669\n",
            "Epoch 9/50\n",
            "53/53 [==============================] - 77s 1s/step - loss: 0.0593 - accuracy: 0.9810 - val_loss: 0.0652 - val_accuracy: 0.9786\n",
            "Epoch 10/50\n",
            "53/53 [==============================] - 56s 1s/step - loss: 0.0870 - accuracy: 0.9697 - val_loss: 0.1217 - val_accuracy: 0.9669\n",
            "Epoch 11/50\n",
            "53/53 [==============================] - 56s 1s/step - loss: 0.0632 - accuracy: 0.9839 - val_loss: 0.0626 - val_accuracy: 0.9776\n",
            "Epoch 12/50\n",
            "53/53 [==============================] - 76s 1s/step - loss: 0.0530 - accuracy: 0.9839 - val_loss: 0.0697 - val_accuracy: 0.9737\n",
            "Epoch 13/50\n",
            "53/53 [==============================] - 56s 1s/step - loss: 0.0574 - accuracy: 0.9816 - val_loss: 0.1056 - val_accuracy: 0.9717\n",
            "Epoch 14/50\n",
            "53/53 [==============================] - 57s 1s/step - loss: 0.0505 - accuracy: 0.9845 - val_loss: 0.0988 - val_accuracy: 0.9727\n",
            "Epoch 15/50\n",
            "53/53 [==============================] - 56s 1s/step - loss: 0.0430 - accuracy: 0.9834 - val_loss: 0.0819 - val_accuracy: 0.9786\n",
            "Epoch 16/50\n",
            "53/53 [==============================] - 76s 1s/step - loss: 0.0403 - accuracy: 0.9875 - val_loss: 0.0752 - val_accuracy: 0.9756\n",
            "Epoch 17/50\n",
            "53/53 [==============================] - 56s 1s/step - loss: 0.0292 - accuracy: 0.9911 - val_loss: 0.0977 - val_accuracy: 0.9805\n",
            "Epoch 18/50\n",
            "53/53 [==============================] - 57s 1s/step - loss: 0.0342 - accuracy: 0.9893 - val_loss: 0.0854 - val_accuracy: 0.9717\n",
            "Epoch 19/50\n",
            "53/53 [==============================] - 56s 1s/step - loss: 0.0257 - accuracy: 0.9869 - val_loss: 0.0787 - val_accuracy: 0.9786\n",
            "Epoch 20/50\n",
            "53/53 [==============================] - 56s 1s/step - loss: 0.0401 - accuracy: 0.9875 - val_loss: 0.1066 - val_accuracy: 0.9669\n",
            "Epoch 21/50\n",
            "53/53 [==============================] - 55s 1s/step - loss: 0.0272 - accuracy: 0.9911 - val_loss: 0.0666 - val_accuracy: 0.9747\n",
            "Epoch 22/50\n",
            "53/53 [==============================] - 56s 1s/step - loss: 0.0292 - accuracy: 0.9905 - val_loss: 0.1081 - val_accuracy: 0.9639\n",
            "Epoch 23/50\n",
            "53/53 [==============================] - 56s 1s/step - loss: 0.0386 - accuracy: 0.9869 - val_loss: 0.0588 - val_accuracy: 0.9854\n",
            "Epoch 24/50\n",
            "53/53 [==============================] - 76s 1s/step - loss: 0.0158 - accuracy: 0.9935 - val_loss: 0.1588 - val_accuracy: 0.9659\n",
            "Epoch 25/50\n",
            "53/53 [==============================] - 56s 1s/step - loss: 0.0437 - accuracy: 0.9869 - val_loss: 0.0678 - val_accuracy: 0.9776\n",
            "Epoch 26/50\n",
            "53/53 [==============================] - 56s 1s/step - loss: 0.0228 - accuracy: 0.9911 - val_loss: 0.0673 - val_accuracy: 0.9825\n",
            "Epoch 27/50\n",
            "53/53 [==============================] - 58s 1s/step - loss: 0.0131 - accuracy: 0.9952 - val_loss: 0.1043 - val_accuracy: 0.9639\n",
            "Epoch 28/50\n",
            "53/53 [==============================] - 75s 1s/step - loss: 0.0328 - accuracy: 0.9905 - val_loss: 0.0643 - val_accuracy: 0.9756\n",
            "Epoch 29/50\n",
            "53/53 [==============================] - 56s 1s/step - loss: 0.0370 - accuracy: 0.9863 - val_loss: 0.1397 - val_accuracy: 0.9669\n",
            "Epoch 30/50\n",
            "53/53 [==============================] - 56s 1s/step - loss: 0.0387 - accuracy: 0.9899 - val_loss: 0.0698 - val_accuracy: 0.9815\n",
            "Epoch 31/50\n",
            "53/53 [==============================] - 55s 1s/step - loss: 0.0337 - accuracy: 0.9881 - val_loss: 0.1033 - val_accuracy: 0.9669\n",
            "Epoch 32/50\n",
            "53/53 [==============================] - 55s 1s/step - loss: 0.0291 - accuracy: 0.9905 - val_loss: 0.1184 - val_accuracy: 0.9649\n",
            "Epoch 33/50\n",
            "53/53 [==============================] - 55s 1s/step - loss: 0.0293 - accuracy: 0.9887 - val_loss: 0.0616 - val_accuracy: 0.9805\n",
            "Epoch 34/50\n",
            "53/53 [==============================] - 55s 1s/step - loss: 0.0202 - accuracy: 0.9929 - val_loss: 0.0730 - val_accuracy: 0.9776\n",
            "Epoch 35/50\n",
            "53/53 [==============================] - 75s 1s/step - loss: 0.0222 - accuracy: 0.9935 - val_loss: 0.0592 - val_accuracy: 0.9776\n",
            "Epoch 36/50\n",
            "53/53 [==============================] - 55s 1s/step - loss: 0.0201 - accuracy: 0.9911 - val_loss: 0.0788 - val_accuracy: 0.9786\n",
            "Epoch 37/50\n",
            "53/53 [==============================] - 55s 1s/step - loss: 0.0242 - accuracy: 0.9911 - val_loss: 0.1241 - val_accuracy: 0.9747\n",
            "Epoch 38/50\n",
            "53/53 [==============================] - 55s 1s/step - loss: 0.0282 - accuracy: 0.9905 - val_loss: 0.0697 - val_accuracy: 0.9825\n",
            "Epoch 39/50\n",
            "53/53 [==============================] - 55s 1s/step - loss: 0.0226 - accuracy: 0.9917 - val_loss: 0.0956 - val_accuracy: 0.9795\n",
            "Epoch 40/50\n",
            "53/53 [==============================] - 55s 1s/step - loss: 0.0317 - accuracy: 0.9887 - val_loss: 0.0842 - val_accuracy: 0.9756\n",
            "Epoch 41/50\n",
            "53/53 [==============================] - 55s 1s/step - loss: 0.0226 - accuracy: 0.9941 - val_loss: 0.1076 - val_accuracy: 0.9717\n",
            "Epoch 42/50\n",
            "53/53 [==============================] - 55s 1s/step - loss: 0.0266 - accuracy: 0.9911 - val_loss: 0.0663 - val_accuracy: 0.9805\n",
            "Epoch 43/50\n",
            "53/53 [==============================] - 55s 1s/step - loss: 0.0225 - accuracy: 0.9905 - val_loss: 0.0600 - val_accuracy: 0.9834\n",
            "Epoch 44/50\n",
            "53/53 [==============================] - 55s 1s/step - loss: 0.0106 - accuracy: 0.9976 - val_loss: 0.0605 - val_accuracy: 0.9825\n",
            "Epoch 45/50\n",
            "53/53 [==============================] - 55s 1s/step - loss: 0.0139 - accuracy: 0.9958 - val_loss: 0.0792 - val_accuracy: 0.9854\n",
            "Epoch 46/50\n",
            "53/53 [==============================] - 74s 1s/step - loss: 0.0185 - accuracy: 0.9946 - val_loss: 0.0477 - val_accuracy: 0.9805\n",
            "Epoch 47/50\n",
            "53/53 [==============================] - 55s 1s/step - loss: 0.0251 - accuracy: 0.9899 - val_loss: 0.1553 - val_accuracy: 0.9639\n",
            "Epoch 48/50\n",
            "53/53 [==============================] - 55s 1s/step - loss: 0.0375 - accuracy: 0.9899 - val_loss: 0.0496 - val_accuracy: 0.9864\n",
            "Epoch 49/50\n",
            "53/53 [==============================] - 55s 1s/step - loss: 0.0222 - accuracy: 0.9917 - val_loss: 0.0761 - val_accuracy: 0.9805\n",
            "Epoch 50/50\n",
            "53/53 [==============================] - 56s 1s/step - loss: 0.0302 - accuracy: 0.9905 - val_loss: 0.0517 - val_accuracy: 0.9795\n"
          ]
        }
      ]
    },
    {
      "cell_type": "code",
      "source": [
        "# Đánh giá độ chính xác của mô hình \n",
        "Score=model.evaluate(training,verbose=0)\n",
        "print('Train Loss', Score[0])\n",
        "print('Train Accuracy', Score[1])"
      ],
      "metadata": {
        "colab": {
          "base_uri": "https://localhost:8080/"
        },
        "id": "SF2newX-m2Wu",
        "outputId": "c5d60c36-1fd0-46d0-942f-a4054f99fae4"
      },
      "execution_count": 7,
      "outputs": [
        {
          "output_type": "stream",
          "name": "stdout",
          "text": [
            "Train Loss 0.011461717076599598\n",
            "Train Accuracy 0.9970273375511169\n"
          ]
        }
      ]
    },
    {
      "cell_type": "code",
      "source": [
        "\n",
        "# Vẽ đồ thị \n",
        "import matplotlib.pyplot as plt\n",
        "accuracy = train.history['accuracy']\n",
        "loss = train.history['loss']\n",
        "epochs = range(len(accuracy))\n"
      ],
      "metadata": {
        "id": "AEy-RA3anFdt"
      },
      "execution_count": 8,
      "outputs": []
    },
    {
      "cell_type": "code",
      "source": [
        "# Vẽ đồ thị giữa số lần học (Epochs) và độ chính xác (Accuracy)\n",
        "plt.plot( epochs, accuracy, 'r', label = 'Training accuracy')\n",
        "plt.show()"
      ],
      "metadata": {
        "colab": {
          "base_uri": "https://localhost:8080/",
          "height": 430
        },
        "id": "KH4edM2xnO_9",
        "outputId": "748f7962-378e-4689-ec2d-0dbe3f9d0fc8"
      },
      "execution_count": 9,
      "outputs": [
        {
          "output_type": "display_data",
          "data": {
            "text/plain": [
              "<Figure size 640x480 with 1 Axes>"
            ],
            "image/png": "[encoded data removed]"
          },
          "metadata": {}
        }
      ]
    },
    {
      "cell_type": "code",
      "source": [
        "# Vẽ đồ thị giữa số lần học (Epochs) và độ mất mác (loss)\n",
        "plt.plot( epochs, loss, 'b', label = 'Training loss')\n",
        "plt.show()"
      ],
      "metadata": {
        "colab": {
          "base_uri": "https://localhost:8080/",
          "height": 430
        },
        "id": "uFW4vPrCnVO7",
        "outputId": "a3348f89-116e-4f12-a521-3231f7cc8e39"
      },
      "execution_count": 10,
      "outputs": [
        {
          "output_type": "display_data",
          "data": {
            "text/plain": [
              "<Figure size 640x480 with 1 Axes>"
            ],
            "image/png": "[encoded data removed]"
          },
          "metadata": {}
        }
      ]
    },
    {
      "cell_type": "code",
      "source": [
        "# Lưu \n",
        "from google.colab import drive\n",
        "model.save('/content/drive/MyDrive/data/covid.h5')"
      ],
      "metadata": {
        "id": "NM-CgkXXnkpl"
      },
      "execution_count": 12,
      "outputs": []
    }
  ]
}