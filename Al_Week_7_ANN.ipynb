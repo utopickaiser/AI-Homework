{
  "nbformat": 4,
  "nbformat_minor": 0,
  "metadata": {
    "colab": {
      "provenance": [],
      "authorship_tag": "ABX9TyMnlOkeEt29FxX4T5WneK0Y",
      "include_colab_link": true
    },
    "kernelspec": {
      "name": "python3",
      "display_name": "Python 3"
    },
    "language_info": {
      "name": "python"
    }
  },
  "cells": [
    {
      "cell_type": "markdown",
      "metadata": {
        "id": "view-in-github",
        "colab_type": "text"
      },
      "source": [
        "<a href=\"https://colab.research.google.com/github/utopickaiser/AI-Homework/blob/main/Al_Week_7_ANN.ipynb\" target=\"_parent\"><img src=\"https://colab.research.google.com/assets/colab-badge.svg\" alt=\"Open In Colab\"/></a>"
      ]
    },
    {
      "cell_type": "code",
      "source": [
        "from sklearn.linear_model import Perceptron\n",
        "from sklearn import datasets\n",
        "from sklearn.model_selection import train_test_split\n",
        "# train thi ko test\n",
        "from sklearn.metrics import accuracy_score\n",
        "from sklearn.preprocessing import StandardScaler\n",
        "# dữ liệu không đều thì ta phải scale lại\n",
        "iris = datasets.load_iris()\n",
        "x = iris.data\n",
        "y = iris.target\n",
        "print(x[:5])\n",
        "print(y[:5])\n",
        "x_train, x_test,y_train, y_test= train_test_split(x,y,test_size=0.3)  #30% data dùng để test, 70% còn lại là để train\n",
        "\n",
        "sc= StandardScaler()\n",
        "sc.fit(x_train)\n",
        "\n",
        "x_train_std= sc.transform(x_train)\n",
        "x_test_std= sc.transform(x_test)\n",
        "\n",
        "print(x_train_std[:5],x_train[:5])\n",
        "print(y[:5])\n",
        "\n",
        "model= Perceptron(max_iter=40, eta0=0.1,random_state=0)\n",
        "model.fit(x_train_std,y_train)\n",
        "y_pred= model.predict(x_test_std)\n",
        "print(y_pred)\n",
        "print(y_test)\n",
        "print(\"Độ chính xác của mô hình\", accuracy_score(y_test,y_pred))"
      ],
      "metadata": {
        "colab": {
          "base_uri": "https://localhost:8080/"
        },
        "id": "32xfYN892A4d",
        "outputId": "d24171d3-6f89-45e3-d24a-8bc057479203"
      },
      "execution_count": 62,
      "outputs": [
        {
          "output_type": "stream",
          "name": "stdout",
          "text": [
            "[[5.1 3.5 1.4 0.2]\n",
            " [4.9 3.  1.4 0.2]\n",
            " [4.7 3.2 1.3 0.2]\n",
            " [4.6 3.1 1.5 0.2]\n",
            " [5.  3.6 1.4 0.2]]\n",
            "[0 0 0 0 0]\n",
            "[[-0.07915957 -0.69626561  0.15292472 -0.30491858]\n",
            " [ 0.42458314  0.83593566  0.9347309   1.52058081]\n",
            " [-0.96070932  1.71147924 -1.17013188 -1.14745676]\n",
            " [-0.33103093 -1.1340374   0.03264685 -0.16449555]\n",
            " [ 0.17271179 -1.79069509  0.09278579 -0.30491858]] [[5.8 2.7 4.1 1. ]\n",
            " [6.2 3.4 5.4 2.3]\n",
            " [5.1 3.8 1.9 0.4]\n",
            " [5.6 2.5 3.9 1.1]\n",
            " [6.  2.2 4.  1. ]]\n",
            "[0 0 0 0 0]\n",
            "[0 0 1 0 1 2 2 2 1 2 0 2 2 2 2 1 0 2 2 2 1 0 0 2 0 0 1 0 0 0 2 0 0 0 2 0 0\n",
            " 1 0 2 0 1 0 0 2]\n",
            "[0 0 1 0 1 2 2 2 2 2 0 2 2 2 2 1 0 2 2 2 1 0 0 2 0 0 1 0 0 0 2 0 0 0 2 0 0\n",
            " 1 0 2 0 1 1 0 2]\n",
            "Độ chính xác của mô hình 0.9555555555555556\n"
          ]
        }
      ]
    },
    {
      "cell_type": "code",
      "source": [
        "from sklearn.linear_model import Perceptron\n",
        "from sklearn import datasets\n",
        "from sklearn.model_selection import train_test_split\n",
        "# train thi ko test\n",
        "from sklearn.metrics import accuracy_score\n",
        "from sklearn.preprocessing import StandardScaler\n",
        "# dữ liệu không đều thì ta phải scale lại\n",
        "iris = datasets.load_iris()\n",
        "x = iris.data\n",
        "y = iris.target\n",
        "print(x[:5])\n",
        "print(y[:5])\n",
        "x_train, x_test,y_train, y_test= train_test_split(x,y,test_size=0.3)  #30% data dùng để test, 70% còn lại là để train\n",
        "\n",
        "sc= StandardScaler()\n",
        "sc.fit(x_train)\n",
        "\n",
        "x_train_std= sc.transform(x_train)\n",
        "x_test_std= sc.transform(x_test)\n",
        "\n",
        "print(x_train_std[:5],x_train[:5])\n",
        "print(y[:5])\n",
        "\n",
        "model= Perceptron(max_iter=1000, eta0=0.5,random_state=0) #Số lần học, độ chính xác\n",
        "model.fit(x_train_std,y_train)\n",
        "y_pred= model.predict(x_test_std)\n",
        "print(y_pred)\n",
        "print(y_test)\n",
        "print(\"Độ chính xác của mô hình\", accuracy_score(y_test,y_pred))\n",
        "\n"
      ],
      "metadata": {
        "colab": {
          "base_uri": "https://localhost:8080/"
        },
        "id": "W_wVDkNk9pPH",
        "outputId": "4a7aae5e-7328-4417-a176-48be17950f6b"
      },
      "execution_count": 71,
      "outputs": [
        {
          "output_type": "stream",
          "name": "stdout",
          "text": [
            "[[5.1 3.5 1.4 0.2]\n",
            " [4.9 3.  1.4 0.2]\n",
            " [4.7 3.2 1.3 0.2]\n",
            " [4.6 3.1 1.5 0.2]\n",
            " [5.  3.6 1.4 0.2]]\n",
            "[0 0 0 0 0]\n",
            "[[-0.74006572  2.55271691 -1.25549099 -1.42284628]\n",
            " [-0.01496245 -0.79772404  0.76914892  0.92373266]\n",
            " [-1.2234679   0.87749644 -1.19925099 -1.29248078]\n",
            " [-1.58601953 -1.75499288 -1.36797099 -1.16211529]\n",
            " [-0.13581299 -0.55840682  0.20674894  0.14153968]] [[5.2 4.1 1.5 0.1]\n",
            " [5.8 2.7 5.1 1.9]\n",
            " [4.8 3.4 1.6 0.2]\n",
            " [4.5 2.3 1.3 0.3]\n",
            " [5.7 2.8 4.1 1.3]]\n",
            "[0 0 0 0 0]\n",
            "[0 1 1 0 1 2 2 2 1 2 1 2 2 1 0 2 2 0 2 2 2 0 1 2 2 0 1 1 0 2 2 0 0 1 0 1 0\n",
            " 2 0 1 2 0 0 2 2]\n",
            "[0 1 1 0 1 2 2 1 1 2 1 2 1 1 0 2 2 0 2 1 1 0 1 2 2 0 1 1 0 2 2 0 0 1 0 1 0\n",
            " 1 0 1 2 0 0 2 2]\n",
            "Độ chính xác của mô hình 0.8888888888888888\n"
          ]
        }
      ]
    },
    {
      "cell_type": "code",
      "source": [
        "\n",
        "from sklearn.linear_model import Perceptron\n",
        "from sklearn import datasets\n",
        "from sklearn.model_selection import train_test_split\n",
        "# train thi ko test\n",
        "from sklearn.metrics import accuracy_score\n",
        "from sklearn.preprocessing import StandardScaler\n",
        "import pandas as pd\n",
        "# dữ liệu không đều thì ta phải scale lại\n",
        "url = 'crabs.csv'\n",
        "data1 = pd.read_csv(url)\n",
        "data2 = data1.replace(['B','O','M','F'],['0','1','0','1'])\n",
        "y = data2['sex'] #Output\n",
        "y = y.values #Chuyển sang ma trận\n",
        "x = data2[['speies','index','fontallip','rearwidth','length','width','depth']] #Input\n",
        "x = x.values #Chuyển sang ma trận\n",
        "print(x[:5])\n",
        "print(y[:5])\n",
        "x_train, x_test,y_train, y_test= train_test_split(x,y,test_size=0.3)  #30% data dùng để test, 70% còn lại là để train\n",
        "\n",
        "sc= StandardScaler()\n",
        "sc.fit(x_train)\n",
        "\n",
        "x_train_std= sc.transform(x_train)\n",
        "x_test_std= sc.transform(x_test)\n",
        "\n",
        "print(x_train_std[:5],x_train[:5])\n",
        "print(y[:5])\n",
        "\n",
        "model= Perceptron(max_iter=1000, eta0=0.1,random_state=0) #Số lần học, độ chính xác\n",
        "model.fit(x_train_std,y_train)\n",
        "y_pred= model.predict(x_test_std)\n",
        "print(y_pred)\n",
        "print(y_test)\n",
        "print(\"Độ chính xác của mô hình\", accuracy_score(y_test,y_pred))\n"
      ],
      "metadata": {
        "colab": {
          "base_uri": "https://localhost:8080/"
        },
        "id": "qr16EBfa_PTy",
        "outputId": "65b51d4a-5fd3-4d79-bb2a-849724ade208"
      },
      "execution_count": 126,
      "outputs": [
        {
          "output_type": "stream",
          "name": "stdout",
          "text": [
            "[['0' 1 8.1 6.7 16.1 19.0 7.0]\n",
            " ['0' 2 8.8 7.7 18.1 20.8 7.4]\n",
            " ['0' 3 9.2 7.8 19.0 22.4 7.7]\n",
            " ['0' 4 9.6 7.9 20.1 23.1 8.2]\n",
            " ['0' 5 9.8 8.0 20.3 23.0 8.2]]\n",
            "['0' '0' '0' '0' '0']\n",
            "[[-1.04381619 -0.64206101 -0.76955989 -0.69021263 -0.74393033 -0.69994214\n",
            "  -0.77524209]\n",
            " [ 0.95802308 -0.84744229 -0.43243848 -0.88186231 -0.42234949 -0.61129607\n",
            "  -0.28348405]\n",
            " [ 0.95802308  0.17946412  0.52273886 -0.30691327  0.31868461  0.11053622\n",
            "   0.35290871]\n",
            " [ 0.95802308  1.61713309  1.9274114   1.68624339  1.52111731  1.55420081\n",
            "   1.65462117]\n",
            " [-1.04381619 -0.23129844 -0.29197122 -0.57522282 -0.03085978 -0.0034373\n",
            "  -0.10992239]] [['0' 16 12.9 11.0 26.8 30.9 11.4]\n",
            " ['1' 13 14.1 10.5 29.1 31.6 13.1]\n",
            " ['1' 28 17.5 12.0 34.4 37.3 15.3]\n",
            " ['1' 49 22.5 17.2 43.0 48.7 19.8]\n",
            " ['0' 22 14.6 11.3 31.9 36.4 13.7]]\n",
            "['0' '0' '0' '0' '0']\n",
            "['1' '0' '0' '0' '0' '1' '0' '1' '0' '0' '1' '0' '0' '0' '0' '0' '0' '0'\n",
            " '0' '0' '0' '1' '0' '0' '1' '0' '1' '0' '1' '1' '1' '1' '0' '1' '1' '0'\n",
            " '0' '0' '1' '0' '0' '0' '0' '1' '0' '1' '1' '0' '1' '1' '1' '1' '1' '1'\n",
            " '1' '0' '0' '1' '1' '0']\n",
            "['1' '0' '0' '0' '0' '1' '0' '1' '0' '0' '1' '0' '0' '0' '0' '0' '0' '0'\n",
            " '0' '0' '0' '1' '0' '1' '1' '1' '1' '0' '1' '1' '1' '1' '0' '1' '1' '0'\n",
            " '0' '0' '1' '0' '0' '0' '0' '1' '0' '1' '1' '0' '1' '1' '1' '1' '1' '1'\n",
            " '1' '0' '0' '1' '1' '0']\n",
            "Độ chính xác của mô hình 0.9666666666666667\n"
          ]
        }
      ]
    },
    {
      "cell_type": "code",
      "source": [],
      "metadata": {
        "id": "-FTu55nGEymX"
      },
      "execution_count": null,
      "outputs": []
    }
  ]
}