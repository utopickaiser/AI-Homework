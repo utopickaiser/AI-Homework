{
  "nbformat": 4,
  "nbformat_minor": 0,
  "metadata": {
    "colab": {
      "provenance": [],
      "authorship_tag": "ABX9TyMt7mxl18Mbq9NXEBwJB+/+",
      "include_colab_link": true
    },
    "kernelspec": {
      "name": "python3",
      "display_name": "Python 3"
    },
    "language_info": {
      "name": "python"
    }
  },
  "cells": [
    {
      "cell_type": "markdown",
      "metadata": {
        "id": "view-in-github",
        "colab_type": "text"
      },
      "source": [
        "<a href=\"https://colab.research.google.com/github/utopickaiser/AI-Homework/blob/main/AI%20Homework%20W3.ipynb\" target=\"_parent\"><img src=\"https://colab.research.google.com/assets/colab-badge.svg\" alt=\"Open In Colab\"/></a>"
      ]
    },
    {
      "cell_type": "code",
      "execution_count": 1,
      "metadata": {
        "colab": {
          "base_uri": "https://localhost:8080/",
          "height": 373
        },
        "id": "yFEQmf2q7D-P",
        "outputId": "b7e6bc2a-70f6-43ba-bd43-cfca6d7e9313"
      },
      "outputs": [
        {
          "output_type": "error",
          "ename": "ModuleNotFoundError",
          "evalue": "ignored",
          "traceback": [
            "\u001b[0;31m---------------------------------------------------------------------------\u001b[0m",
            "\u001b[0;31mModuleNotFoundError\u001b[0m                       Traceback (most recent call last)",
            "\u001b[0;32m<ipython-input-1-6c34c13d8bc4>\u001b[0m in \u001b[0;36m<module>\u001b[0;34m\u001b[0m\n\u001b[1;32m      1\u001b[0m \u001b[0;31m# bài toán nấu cơm\u001b[0m\u001b[0;34m\u001b[0m\u001b[0;34m\u001b[0m\u001b[0;34m\u001b[0m\u001b[0m\n\u001b[1;32m      2\u001b[0m \u001b[0;32mimport\u001b[0m \u001b[0mnumpy\u001b[0m \u001b[0;32mas\u001b[0m \u001b[0mnp\u001b[0m\u001b[0;34m\u001b[0m\u001b[0;34m\u001b[0m\u001b[0m\n\u001b[0;32m----> 3\u001b[0;31m \u001b[0;32mimport\u001b[0m \u001b[0mskfuzzy\u001b[0m \u001b[0;32mas\u001b[0m \u001b[0mfuzz\u001b[0m\u001b[0;34m\u001b[0m\u001b[0;34m\u001b[0m\u001b[0m\n\u001b[0m\u001b[1;32m      4\u001b[0m \u001b[0;32mfrom\u001b[0m \u001b[0mskfuzzy\u001b[0m \u001b[0;32mimport\u001b[0m \u001b[0mcontrol\u001b[0m \u001b[0;32mas\u001b[0m \u001b[0mctrl\u001b[0m\u001b[0;34m\u001b[0m\u001b[0;34m\u001b[0m\u001b[0m\n\u001b[1;32m      5\u001b[0m \u001b[0mtime\u001b[0m \u001b[0;34m=\u001b[0m \u001b[0mctrl\u001b[0m\u001b[0;34m.\u001b[0m\u001b[0mAntecedent\u001b[0m\u001b[0;34m(\u001b[0m\u001b[0mnp\u001b[0m\u001b[0;34m.\u001b[0m\u001b[0marange\u001b[0m\u001b[0;34m(\u001b[0m\u001b[0;36m10\u001b[0m\u001b[0;34m,\u001b[0m\u001b[0;36m180\u001b[0m\u001b[0;34m,\u001b[0m\u001b[0;36m1\u001b[0m\u001b[0;34m)\u001b[0m\u001b[0;34m,\u001b[0m\u001b[0;34m'Time'\u001b[0m\u001b[0;34m)\u001b[0m\u001b[0;34m\u001b[0m\u001b[0;34m\u001b[0m\u001b[0m\n",
            "\u001b[0;31mModuleNotFoundError\u001b[0m: No module named 'skfuzzy'",
            "",
            "\u001b[0;31m---------------------------------------------------------------------------\u001b[0;32m\nNOTE: If your import is failing due to a missing package, you can\nmanually install dependencies using either !pip or !apt.\n\nTo view examples of installing some common dependencies, click the\n\"Open Examples\" button below.\n\u001b[0;31m---------------------------------------------------------------------------\u001b[0m\n"
          ],
          "errorDetails": {
            "actions": [
              {
                "action": "open_url",
                "actionText": "Open Examples",
                "url": "/notebooks/snippets/importing_libraries.ipynb"
              }
            ]
          }
        }
      ],
      "source": [
        "# bài toán nấu cơm\n",
        "import numpy as np\n",
        "import skfuzzy as fuzz\n",
        "from skfuzzy import control as ctrl\n",
        "time = ctrl.Antecedent(np.arange(10,180,1),'Time')\n",
        "rice = ctrl.Antecedent(np.arange(200,1000,1),'Rice')\n",
        "power = ctrl.Consequent(np.arange(500,2000,1),'Power')\n",
        "# Thiết lập cách giá trị\n",
        "time['Very Fast'] = fuzz.trimf(time.universe,[10,10,20])\n",
        "time['Fast'] = fuzz.trimf(time.universe,[10,20,50])\n",
        "time['Average'] = fuzz.trimf(time.universe,[20,50,100])\n",
        "time['Slow'] = fuzz.trimf(time.universe,[50,100,150])\n",
        "time['Very Slow'] = fuzz.trimf(time.universe,[150,180,180])\n",
        "\n",
        "rice['Very Much'] = fuzz.trimf(rice.universe,[800,1000,1000])\n",
        "rice['Much'] = fuzz.trimf(rice.universe,[600,800,1000])\n",
        "rice['Average'] = fuzz.trimf(rice.universe,[400,600,800])\n",
        "rice['Less'] = fuzz.trimf(rice.universe,[200,400,600])\n",
        "rice['Very Less'] = fuzz.trimf(rice.universe,[200,200,400])\n",
        "\n",
        "power['Very High'] = fuzz.trimf(power.universe,[1750,2000,2000])\n",
        "power['High'] = fuzz.trimf(power.universe,[1500,1750,2000])\n",
        "power['Average'] = fuzz.trimf(power.universe,[750,1000,1500])\n",
        "power['Small'] = fuzz.trimf(power.universe,[500,750,1000])\n",
        "power['Very Small'] = fuzz.trimf(power.universe,[500,500,750])\n",
        "\n",
        "#time.view()\n",
        "#rice.view()\n",
        "#power.view()\n",
        "# Thiết lập các quy luật Membership\n",
        "rule1 = ctrl.Rule(rice['Very Less'] & time['Very Slow'], power['Very Small'])\n",
        "rule2 = ctrl.Rule(rice['Very Less'] & time['Slow'], power['Very Small'])\n",
        "rule3 = ctrl.Rule(rice['Very Less'] & time['Average'], power['Small'])\n",
        "rule4 = ctrl.Rule(rice['Very Less'] & time['Fast'], power['Average'])\n",
        "rule5 = ctrl.Rule(rice['Very Less'] & time['Very Fast'], power['High'])\n",
        "\n",
        "rule6 = ctrl.Rule(rice['Less'] & time['Very Slow'], power['Very Small'])\n",
        "rule7 = ctrl.Rule(rice['Less'] & time['Slow'], power['Small'])\n",
        "rule8 = ctrl.Rule(rice['Less'] & time['Average'], power['Small'])\n",
        "rule9 = ctrl.Rule(rice['Less'] & time['Fast'], power['Average'])\n",
        "rule10 = ctrl.Rule(rice['Less'] & time['Very Fast'], power['High'])\n",
        "\n",
        "rule11 = ctrl.Rule(rice['Average'] & time['Very Slow'], power['Small'])\n",
        "rule12 = ctrl.Rule(rice['Average'] & time['Slow'], power['Small'])\n",
        "rule13 = ctrl.Rule(rice['Average'] & time['Average'], power['Average'])\n",
        "rule14 = ctrl.Rule(rice['Average'] & time['Fast'], power['High'])\n",
        "rule15 = ctrl.Rule(rice['Average'] & time['Very Fast'], power['High'])\n",
        "\n",
        "rule16 = ctrl.Rule(rice['Much'] & time['Very Slow'], power['Average'])\n",
        "rule17 = ctrl.Rule(rice['Much'] & time['Slow'], power['Average'])\n",
        "rule18 = ctrl.Rule(rice['Much'] & time['Average'], power['High'])\n",
        "rule19 = ctrl.Rule(rice['Much'] & time['Fast'], power['High'])\n",
        "rule20 = ctrl.Rule(rice['Much'] & time['Very Fast'], power['Very High'])\n",
        "\n",
        "rule21 = ctrl.Rule(rice['Very Much'] & time['Very Slow'], power['Average'])\n",
        "rule22 = ctrl.Rule(rice['Very Much'] & time['Slow'], power['High'])\n",
        "rule23 = ctrl.Rule(rice['Very Much'] & time['Average'], power['High'])\n",
        "rule24 = ctrl.Rule(rice['Very Much'] & time['Fast'], power['Very High'])\n",
        "rule25 = ctrl.Rule(rice['Very Much'] & time['Very Fast'], power['Very High'])\n",
        "\n",
        "# Tạo giá trị để điều khiển các quy luật\n",
        "CongSuat_ctrl = ctrl.ControlSystem([rule1,rule2,rule3,rule4,rule5,rule6,rule7,\n",
        "                                    rule8,rule9,rule10,rule11,rule12,rule13,\n",
        "                                    rule14,rule15,rule16,rule17,rule18,rule19,\n",
        "                                    rule20,rule21,rule22,rule23,rule24,rule25])\n",
        "CongSuat = ctrl.ControlSystemSimulation(CongSuat_ctrl)\n",
        "# Nhập điều kiện đầu vào\n",
        "CongSuat.input['Time'] = 100\n",
        "CongSuat.input['Rice'] = 500\n",
        "CongSuat.compute()\n",
        "# Xuất kết quả\n",
        "print(CongSuat.output['Power'])\n",
        "power.view(sim = CongSuat)"
      ]
    },
    {
      "cell_type": "code",
      "source": [],
      "metadata": {
        "id": "v8EUZyDQ7OTT"
      },
      "execution_count": null,
      "outputs": []
    }
  ]
}