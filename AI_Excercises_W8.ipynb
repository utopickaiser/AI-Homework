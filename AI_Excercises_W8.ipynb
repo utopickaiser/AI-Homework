{
  "nbformat": 4,
  "nbformat_minor": 0,
  "metadata": {
    "colab": {
      "provenance": [],
      "authorship_tag": "ABX9TyNO9IQXU61jcfmyCnK5pCRK",
      "include_colab_link": true
    },
    "kernelspec": {
      "name": "python3",
      "display_name": "Python 3"
    },
    "language_info": {
      "name": "python"
    }
  },
  "cells": [
    {
      "cell_type": "markdown",
      "metadata": {
        "id": "view-in-github",
        "colab_type": "text"
      },
      "source": [
        "<a href=\"https://colab.research.google.com/github/utopickaiser/AI-Homework/blob/main/AI_Excercises_W8.ipynb\" target=\"_parent\"><img src=\"https://colab.research.google.com/assets/colab-badge.svg\" alt=\"Open In Colab\"/></a>"
      ]
    },
    {
      "cell_type": "code",
      "execution_count": 1,
      "metadata": {
        "colab": {
          "base_uri": "https://localhost:8080/"
        },
        "id": "LYgHIJMBXhn1",
        "outputId": "8e017e21-5146-4e00-a50a-66795e14b137"
      },
      "outputs": [
        {
          "output_type": "stream",
          "name": "stdout",
          "text": [
            "Mean squared error: 0.5558915986952422\n"
          ]
        }
      ],
      "source": [
        "\n",
        "from sklearn.datasets import fetch_california_housing\n",
        "from sklearn.linear_model import LinearRegression\n",
        "from sklearn.model_selection import train_test_split\n",
        "from sklearn.metrics import mean_squared_error\n",
        "import pandas as pd\n",
        "import numpy as np\n",
        "\n",
        "data_url = \"http://lib.stat.cmu.edu/datasets/boston\"\n",
        "raw_df = pd.read_csv(data_url, sep=\"\\s+\", skiprows=22, header=None)\n",
        "data = np.hstack([raw_df.values[::2, :], raw_df.values[1::2, :2]])\n",
        "target = raw_df.values[1::2, 2]\n",
        "\n",
        "# Load boston housing dataset\n",
        "boston = fetch_california_housing()\n",
        "\n",
        "# Split the dataset into training and testing sets\n",
        "X_train, X_test, y_train, y_test = train_test_split(boston.data, boston.target, test_size=0.2, random_state=42)\n",
        "\n",
        "# Train a linear regression model\n",
        "lr = LinearRegression()\n",
        "lr.fit(X_train, y_train)\n",
        "\n",
        "# Make predictions on the testing set\n",
        "y_pred = lr.predict(X_test)\n",
        "\n",
        "# Evaluate the model using mean squared error\n",
        "mse = mean_squared_error(y_test, y_pred)\n",
        "print(\"Mean squared error:\", mse)"
      ]
    },
    {
      "cell_type": "code",
      "source": [
        "import tensorflow as tf\n",
        "from tensorflow import keras\n",
        "from tensorflow.keras import layers\n",
        "from tensorflow.keras.datasets import cifar10\n",
        "\n",
        "# Load the CIFAR10 data\n",
        "(x_train, y_train), (x_test, y_test) = cifar10.load_data()\n",
        "\n",
        "# Normalize pixel values between 0 and 1\n",
        "x_train = x_train.astype(\"float32\") / 255.0\n",
        "x_test = x_test.astype(\"float32\") / 255.0\n",
        "\n",
        "# Define the model\n",
        "model = keras.Sequential(\n",
        "    [\n",
        "        layers.Input(shape=(32, 32, 3)),\n",
        "        layers.Conv2D(32, 3, activation=\"relu\"),\n",
        "        layers.MaxPooling2D(pool_size=(2, 2)),\n",
        "        layers.Conv2D(64, 3, activation=\"relu\"),\n",
        "        layers.MaxPooling2D(pool_size=(2, 2)),\n",
        "        layers.Flatten(),\n",
        "        layers.Dense(128, activation=\"relu\"),\n",
        "        layers.Dense(10),\n",
        "    ]\n",
        ")\n",
        "\n",
        "# Compile the model\n",
        "model.compile(\n",
        "    optimizer=keras.optimizers.Adam(learning_rate=0.001),\n",
        "    loss=keras.losses.SparseCategoricalCrossentropy(from_logits=True),\n",
        "    metrics=[\"accuracy\"],\n",
        ")\n",
        "\n",
        "# Train the model\n",
        "model.fit(x_train, y_train, epochs=10, batch_size=64, verbose=2)\n",
        "\n",
        "# Evaluate the model\n",
        "model.evaluate(x_test, y_test, batch_size=64, verbose=2)"
      ],
      "metadata": {
        "colab": {
          "base_uri": "https://localhost:8080/"
        },
        "id": "vzRKyjypXk0_",
        "outputId": "c1d4b923-aa19-47a7-f5dc-65eb3f1520b4"
      },
      "execution_count": 2,
      "outputs": [
        {
          "output_type": "stream",
          "name": "stdout",
          "text": [
            "Downloading data from https://www.cs.toronto.edu/~kriz/cifar-10-python.tar.gz\n",
            "170498071/170498071 [==============================] - 5s 0us/step\n",
            "Epoch 1/10\n",
            "782/782 - 76s - loss: 1.4519 - accuracy: 0.4798 - 76s/epoch - 98ms/step\n",
            "Epoch 2/10\n",
            "782/782 - 68s - loss: 1.1292 - accuracy: 0.6046 - 68s/epoch - 87ms/step\n",
            "Epoch 3/10\n",
            "782/782 - 67s - loss: 0.9973 - accuracy: 0.6514 - 67s/epoch - 86ms/step\n",
            "Epoch 4/10\n",
            "782/782 - 66s - loss: 0.9016 - accuracy: 0.6875 - 66s/epoch - 84ms/step\n",
            "Epoch 5/10\n",
            "782/782 - 65s - loss: 0.8232 - accuracy: 0.7164 - 65s/epoch - 84ms/step\n",
            "Epoch 6/10\n",
            "782/782 - 63s - loss: 0.7579 - accuracy: 0.7363 - 63s/epoch - 80ms/step\n",
            "Epoch 7/10\n",
            "782/782 - 64s - loss: 0.6932 - accuracy: 0.7606 - 64s/epoch - 81ms/step\n",
            "Epoch 8/10\n",
            "782/782 - 67s - loss: 0.6350 - accuracy: 0.7801 - 67s/epoch - 86ms/step\n",
            "Epoch 9/10\n",
            "782/782 - 65s - loss: 0.5867 - accuracy: 0.7953 - 65s/epoch - 83ms/step\n",
            "Epoch 10/10\n",
            "782/782 - 65s - loss: 0.5317 - accuracy: 0.8152 - 65s/epoch - 83ms/step\n",
            "157/157 - 4s - loss: 0.9012 - accuracy: 0.7126 - 4s/epoch - 23ms/step\n"
          ]
        },
        {
          "output_type": "execute_result",
          "data": {
            "text/plain": [
              "[0.9011909365653992, 0.7125999927520752]"
            ]
          },
          "metadata": {},
          "execution_count": 2
        }
      ]
    },
    {
      "cell_type": "code",
      "source": [
        "#tập dữ liệu CIFAR100:\n",
        "import tensorflow as tf\n",
        "from tensorflow import keras\n",
        "from tensorflow.keras import layers\n",
        "from tensorflow.keras.datasets import cifar100\n",
        "\n",
        "# Load the CIFAR100 data\n",
        "(x_train, y_train), (x_test, y_test) = cifar100.load_data(label_mode=\"fine\")\n",
        "\n",
        "# Normalize pixel values between 0 and 1\n",
        "x_train = x_train.astype(\"float32\") / 255.0\n",
        "x_test = x_test.astype(\"float32\") / 255.0\n",
        "\n",
        "# Define the model\n",
        "model = keras.Sequential(\n",
        "    [\n",
        "        layers.Input(shape=(32, 32, 3)),\n",
        "        layers.Conv2D(32, 3, activation=\"relu\"),\n",
        "        layers.MaxPooling2D(pool_size=(2, 2)),\n",
        "        layers.Conv2D(64, 3, activation=\"relu\"),\n",
        "        layers.MaxPooling2D(pool_size=(2, 2)),\n",
        "        layers.Flatten(),\n",
        "        layers.Dense(128, activation=\"relu\"),\n",
        "        layers.Dense(100),\n",
        "    ]\n",
        ")\n",
        "\n",
        "# Compile the model\n",
        "model.compile(\n",
        "    optimizer=keras.optimizers.Adam(learning_rate=0.001),\n",
        "    loss=keras.losses.SparseCategoricalCrossentropy(from_logits=True),\n",
        "    metrics=[\"accuracy\"],\n",
        ")\n",
        "\n",
        "# Train the model\n",
        "model.fit(x_train, y_train, epochs=10, batch_size=64, verbose=2)\n",
        "\n",
        "# Evaluate the model\n",
        "model.evaluate(x_test, y_test, batch_size=64, verbose=2)"
      ],
      "metadata": {
        "colab": {
          "base_uri": "https://localhost:8080/"
        },
        "id": "5P3QjjqFXrk3",
        "outputId": "8249a2ea-86c7-4a53-9cd5-d4c21677a01b"
      },
      "execution_count": 3,
      "outputs": [
        {
          "output_type": "stream",
          "name": "stdout",
          "text": [
            "Downloading data from https://www.cs.toronto.edu/~kriz/cifar-100-python.tar.gz\n",
            "169001437/169001437 [==============================] - 2s 0us/step\n",
            "Epoch 1/10\n",
            "782/782 - 67s - loss: 3.7953 - accuracy: 0.1292 - 67s/epoch - 85ms/step\n",
            "Epoch 2/10\n",
            "782/782 - 66s - loss: 3.1085 - accuracy: 0.2457 - 66s/epoch - 84ms/step\n",
            "Epoch 3/10\n",
            "782/782 - 66s - loss: 2.8128 - accuracy: 0.3014 - 66s/epoch - 84ms/step\n",
            "Epoch 4/10\n",
            "782/782 - 66s - loss: 2.6124 - accuracy: 0.3424 - 66s/epoch - 84ms/step\n",
            "Epoch 5/10\n",
            "782/782 - 66s - loss: 2.4668 - accuracy: 0.3725 - 66s/epoch - 84ms/step\n",
            "Epoch 6/10\n",
            "782/782 - 64s - loss: 2.3472 - accuracy: 0.3993 - 64s/epoch - 82ms/step\n",
            "Epoch 7/10\n",
            "782/782 - 67s - loss: 2.2481 - accuracy: 0.4194 - 67s/epoch - 86ms/step\n",
            "Epoch 8/10\n",
            "782/782 - 66s - loss: 2.1623 - accuracy: 0.4385 - 66s/epoch - 84ms/step\n",
            "Epoch 9/10\n",
            "782/782 - 63s - loss: 2.0830 - accuracy: 0.4557 - 63s/epoch - 81ms/step\n",
            "Epoch 10/10\n",
            "782/782 - 64s - loss: 2.0060 - accuracy: 0.4722 - 64s/epoch - 82ms/step\n",
            "157/157 - 3s - loss: 2.5429 - accuracy: 0.3770 - 3s/epoch - 22ms/step\n"
          ]
        },
        {
          "output_type": "execute_result",
          "data": {
            "text/plain": [
              "[2.5428946018218994, 0.37700000405311584]"
            ]
          },
          "metadata": {},
          "execution_count": 3
        }
      ]
    },
    {
      "cell_type": "code",
      "source": [
        "#tập dữ liệu Fashion MNIST:\n",
        "import tensorflow as tf\n",
        "from tensorflow import keras\n",
        "from tensorflow.keras import layers\n",
        "from tensorflow.keras.datasets import fashion_mnist\n",
        "\n",
        "# Load the Fashion MNIST data\n",
        "(x_train, y_train), (x_test, y_test) = fashion_mnist.load_data()\n",
        "\n",
        "# Normalize pixel values between 0 and 1\n",
        "x_train = x_train.astype(\"float32\") / 255.0\n",
        "x_test = x_test.astype(\"float32\")"
      ],
      "metadata": {
        "colab": {
          "base_uri": "https://localhost:8080/"
        },
        "id": "qG3yRERnXyDW",
        "outputId": "f1da1772-20b0-4dc6-876b-c97bea97296b"
      },
      "execution_count": 4,
      "outputs": [
        {
          "output_type": "stream",
          "name": "stdout",
          "text": [
            "Downloading data from https://storage.googleapis.com/tensorflow/tf-keras-datasets/train-labels-idx1-ubyte.gz\n",
            "29515/29515 [==============================] - 0s 0us/step\n",
            "Downloading data from https://storage.googleapis.com/tensorflow/tf-keras-datasets/train-images-idx3-ubyte.gz\n",
            "26421880/26421880 [==============================] - 0s 0us/step\n",
            "Downloading data from https://storage.googleapis.com/tensorflow/tf-keras-datasets/t10k-labels-idx1-ubyte.gz\n",
            "5148/5148 [==============================] - 0s 0us/step\n",
            "Downloading data from https://storage.googleapis.com/tensorflow/tf-keras-datasets/t10k-images-idx3-ubyte.gz\n",
            "4422102/4422102 [==============================] - 0s 0us/step\n"
          ]
        }
      ]
    }
  ]
}