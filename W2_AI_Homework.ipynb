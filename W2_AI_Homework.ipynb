{
  "nbformat": 4,
  "nbformat_minor": 0,
  "metadata": {
    "colab": {
      "provenance": [],
      "authorship_tag": "ABX9TyOilE8YaV7VAa7xrv3TAHjM",
      "include_colab_link": true
    },
    "kernelspec": {
      "name": "python3",
      "display_name": "Python 3"
    },
    "language_info": {
      "name": "python"
    }
  },
  "cells": [
    {
      "cell_type": "markdown",
      "metadata": {
        "id": "view-in-github",
        "colab_type": "text"
      },
      "source": [
        "<a href=\"https://colab.research.google.com/github/utopickaiser/AI-Homework/blob/main/W2_AI_Homework.ipynb\" target=\"_parent\"><img src=\"https://colab.research.google.com/assets/colab-badge.svg\" alt=\"Open In Colab\"/></a>"
      ]
    },
    {
      "cell_type": "code",
      "execution_count": 52,
      "metadata": {
        "colab": {
          "base_uri": "https://localhost:8080/"
        },
        "id": "tkPyculZG3LI",
        "outputId": "a34643d5-fc9d-44fd-ea42-87439e99d030"
      },
      "outputs": [
        {
          "output_type": "stream",
          "name": "stdout",
          "text": [
            "Tổng số huy chương của Winter Olympics từ năm 1924 đến 2006 là:  2311\n",
            "Tổng số huy chương vàng của Winter Olympics từ năm 1924 đến 2006 là:  774\n",
            "Tổng số huy chương bạc của Winter Olympics từ năm 1924 đến 2006 là:  773\n",
            "Tổng số huy chương đồng Winter Olympics từ năm 1924 đến 2006 là:  764\n",
            "Số huy chương của từng môn:  Skiing        1060\n",
            "Skating        758\n",
            "Biathlon       162\n",
            "Bobsleigh      133\n",
            "Luge           108\n",
            "Ice Hockey      69\n",
            "Curling         21\n",
            "Name: Sport, dtype: int64\n",
            "Nước có nhiều huy chương nhất:  YUG\n",
            "Nước có ít huy chương nhất:  AUS\n"
          ]
        }
      ],
      "source": [
        "\n",
        "import pandas as pd\n",
        "url = 'http://winterolympicsmedals.com/medals.csv'\n",
        "dataframe = pd.read_csv(url)\n",
        "TG = len(dataframe[dataframe['Medal']=='Gold'])\n",
        "TS = len(dataframe[dataframe['Medal']=='Silver'])\n",
        "TB = len(dataframe[dataframe['Medal']=='Bronze'])\n",
        "ALL = TG+TS+TB\n",
        "print('Tổng số huy chương của Winter Olympics từ năm 1924 đến 2006 là: ', ALL)\n",
        "print('Tổng số huy chương vàng của Winter Olympics từ năm 1924 đến 2006 là: ', TG)\n",
        "print('Tổng số huy chương bạc của Winter Olympics từ năm 1924 đến 2006 là: ', TS)\n",
        "print('Tổng số huy chương đồng Winter Olympics từ năm 1924 đến 2006 là: ', TB)\n",
        "print('Số huy chương của từng môn: ' , dataframe['Sport'].value_counts() )\n",
        "print('Nước có nhiều huy chương nhất: ', dataframe['NOC'].max())\n",
        "print('Nước có ít huy chương nhất: ', dataframe['NOC'].min())"
      ]
    },
    {
      "cell_type": "code",
      "source": [
        "#Tổng quan tình hình số huy chương của USA\n",
        "G = len(dataframe[(dataframe['NOC']=='USA')&(dataframe['Medal']=='Gold')])\n",
        "S = len(dataframe[(dataframe['NOC']=='USA')&(dataframe['Medal']=='Silver')])\n",
        "B = len(dataframe[(dataframe['NOC']=='USA')&(dataframe['Medal']=='Bronze')])\n",
        "print('Tổng số huy chương của Mĩ là: ', ALL)\n",
        "print('Tổng số huy chương Vàng của Mĩ là:', G)\n",
        "print('Tổng số huy chương Bạc của Mĩ là: ', S)\n",
        "print('Tổng số huy chương Đồng của Mĩ là: ', B)"
      ],
      "metadata": {
        "colab": {
          "base_uri": "https://localhost:8080/"
        },
        "id": "CT3CYhqtKxgR",
        "outputId": "63b62c22-d0a3-4348-e131-f34aa65d7430"
      },
      "execution_count": 54,
      "outputs": [
        {
          "output_type": "stream",
          "name": "stdout",
          "text": [
            "Tổng số huy chương của Mĩ là:  2311\n",
            "Tổng số huy chương Vàng của Mĩ là: 78\n",
            "Tổng số huy chương Bạc của Mĩ là:  80\n",
            "Tổng số huy chương Đồng của Mĩ là:  58\n"
          ]
        }
      ]
    },
    {
      "cell_type": "code",
      "source": [],
      "metadata": {
        "id": "XXI8if56Kfhk"
      },
      "execution_count": null,
      "outputs": []
    }
  ]
}